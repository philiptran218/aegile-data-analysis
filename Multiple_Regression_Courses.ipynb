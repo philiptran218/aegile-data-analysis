{
 "cells": [
  {
   "cell_type": "markdown",
   "metadata": {},
   "source": [
    "# Multiple Regression Analysis Notebook\n",
    "\n",
    "This notebook performs multiple regression analysis on fields in a dataset."
   ]
  },
  {
   "cell_type": "code",
   "execution_count": 1,
   "metadata": {},
   "outputs": [],
   "source": [
    "# Import necessary libraries\n",
    "import pandas as pd\n",
    "import statsmodels.api as sm\n",
    "from sklearn.model_selection import train_test_split\n",
    "from sklearn.linear_model import LinearRegression\n",
    "from sklearn.metrics import mean_squared_error, r2_score"
   ]
  },
  {
   "cell_type": "markdown",
   "metadata": {},
   "source": [
    "## Step 1: Load the file and clean the data"
   ]
  },
  {
   "cell_type": "code",
   "execution_count": 21,
   "metadata": {},
   "outputs": [
    {
     "name": "stderr",
     "output_type": "stream",
     "text": [
      "C:\\Users\\phili\\AppData\\Local\\Temp\\ipykernel_3340\\1776390631.py:10: UserWarning: Boolean Series key will be reindexed to match DataFrame index.\n",
      "  ft_data = ft_data[selected_data['incomplete_flag'] != 1]\n"
     ]
    },
    {
     "data": {
      "text/html": [
       "<div>\n",
       "<style scoped>\n",
       "    .dataframe tbody tr th:only-of-type {\n",
       "        vertical-align: middle;\n",
       "    }\n",
       "\n",
       "    .dataframe tbody tr th {\n",
       "        vertical-align: top;\n",
       "    }\n",
       "\n",
       "    .dataframe thead th {\n",
       "        text-align: right;\n",
       "    }\n",
       "</style>\n",
       "<table border=\"1\" class=\"dataframe\">\n",
       "  <thead>\n",
       "    <tr style=\"text-align: right;\">\n",
       "      <th></th>\n",
       "      <th>grade</th>\n",
       "      <th>nevents</th>\n",
       "      <th>ndays_act</th>\n",
       "      <th>nplay_video</th>\n",
       "      <th>nchapters</th>\n",
       "      <th>nforum_posts</th>\n",
       "      <th>incomplete_flag</th>\n",
       "    </tr>\n",
       "  </thead>\n",
       "  <tbody>\n",
       "    <tr>\n",
       "      <th>12</th>\n",
       "      <td>0.07</td>\n",
       "      <td>175.0</td>\n",
       "      <td>9.0</td>\n",
       "      <td>0.0</td>\n",
       "      <td>7.0</td>\n",
       "      <td>0</td>\n",
       "      <td>0.0</td>\n",
       "    </tr>\n",
       "    <tr>\n",
       "      <th>29</th>\n",
       "      <td>0.05</td>\n",
       "      <td>285.0</td>\n",
       "      <td>8.0</td>\n",
       "      <td>0.0</td>\n",
       "      <td>4.0</td>\n",
       "      <td>0</td>\n",
       "      <td>0.0</td>\n",
       "    </tr>\n",
       "    <tr>\n",
       "      <th>90</th>\n",
       "      <td>0.13</td>\n",
       "      <td>2796.0</td>\n",
       "      <td>23.0</td>\n",
       "      <td>891.0</td>\n",
       "      <td>6.0</td>\n",
       "      <td>0</td>\n",
       "      <td>0.0</td>\n",
       "    </tr>\n",
       "    <tr>\n",
       "      <th>108</th>\n",
       "      <td>0.35</td>\n",
       "      <td>1068.0</td>\n",
       "      <td>14.0</td>\n",
       "      <td>103.0</td>\n",
       "      <td>3.0</td>\n",
       "      <td>0</td>\n",
       "      <td>0.0</td>\n",
       "    </tr>\n",
       "    <tr>\n",
       "      <th>118</th>\n",
       "      <td>1.00</td>\n",
       "      <td>439.0</td>\n",
       "      <td>47.0</td>\n",
       "      <td>0.0</td>\n",
       "      <td>11.0</td>\n",
       "      <td>0</td>\n",
       "      <td>0.0</td>\n",
       "    </tr>\n",
       "  </tbody>\n",
       "</table>\n",
       "</div>"
      ],
      "text/plain": [
       "     grade  nevents  ndays_act  nplay_video  nchapters  nforum_posts  \\\n",
       "12    0.07    175.0        9.0          0.0        7.0             0   \n",
       "29    0.05    285.0        8.0          0.0        4.0             0   \n",
       "90    0.13   2796.0       23.0        891.0        6.0             0   \n",
       "108   0.35   1068.0       14.0        103.0        3.0             0   \n",
       "118   1.00    439.0       47.0          0.0       11.0             0   \n",
       "\n",
       "     incomplete_flag  \n",
       "12               0.0  \n",
       "29               0.0  \n",
       "90               0.0  \n",
       "108              0.0  \n",
       "118              0.0  "
      ]
     },
     "execution_count": 21,
     "metadata": {},
     "output_type": "execute_result"
    }
   ],
   "source": [
    "# Replace 'your_dataset.csv' with the path to your dataset\n",
    "file_path = 'datasets/Courses.csv'\n",
    "data = pd.read_csv(file_path)\n",
    "\n",
    "selected_fields = ['grade', 'nevents', 'ndays_act', 'nplay_video', 'nchapters', 'nforum_posts', 'incomplete_flag']\n",
    "selected_data = data[selected_fields]\n",
    "ft_data = selected_data.fillna(0)\n",
    "ft_data = ft_data.apply(pd.to_numeric, errors='coerce')\n",
    "ft_data = ft_data[ft_data['grade'] > 0]\n",
    "ft_data = ft_data[selected_data['incomplete_flag'] != 1]\n",
    "ft_data.head()"
   ]
  },
  {
   "cell_type": "markdown",
   "metadata": {},
   "source": [
    "## Step 2: Specify Target and Predictor Variables"
   ]
  },
  {
   "cell_type": "code",
   "execution_count": 22,
   "metadata": {},
   "outputs": [],
   "source": [
    "# Define the target and predictors\n",
    "target = 'grade'  # Replace with your target column\n",
    "predictors = ['nevents', 'ndays_act', 'nplay_video', 'nchapters', 'nforum_posts']  # Replace with your predictor columns\n",
    "\n",
    "# Ensure selected fields are in the dataset\n",
    "if target not in ft_data.columns or not set(predictors).issubset(ft_data.columns):\n",
    "    raise ValueError('Ensure the target and predictor fields are correctly specified and exist in the dataset.')\n",
    "\n",
    "# Prepare data\n",
    "X = ft_data[predictors]\n",
    "y = ft_data[target]"
   ]
  },
  {
   "cell_type": "markdown",
   "metadata": {},
   "source": [
    "## Step 3: Split the Data into Training and Testing Sets"
   ]
  },
  {
   "cell_type": "code",
   "execution_count": 23,
   "metadata": {},
   "outputs": [],
   "source": [
    "# Split the data\n",
    "X_train, X_test, y_train, y_test = train_test_split(X, y, test_size=0.2, random_state=42)"
   ]
  },
  {
   "cell_type": "markdown",
   "metadata": {},
   "source": [
    "## Step 4: Perform Multiple Regression Using Statsmodels"
   ]
  },
  {
   "cell_type": "code",
   "execution_count": 24,
   "metadata": {},
   "outputs": [
    {
     "name": "stdout",
     "output_type": "stream",
     "text": [
      "                            OLS Regression Results                            \n",
      "==============================================================================\n",
      "Dep. Variable:                  grade   R-squared:                       0.605\n",
      "Model:                            OLS   Adj. R-squared:                  0.605\n",
      "Method:                 Least Squares   F-statistic:                 1.814e+04\n",
      "Date:                Sat, 01 Feb 2025   Prob (F-statistic):               0.00\n",
      "Time:                        01:44:45   Log-Likelihood:                 6754.6\n",
      "No. Observations:               59154   AIC:                        -1.350e+04\n",
      "Df Residuals:                   59148   BIC:                        -1.344e+04\n",
      "Df Model:                           5                                         \n",
      "Covariance Type:            nonrobust                                         \n",
      "================================================================================\n",
      "                   coef    std err          t      P>|t|      [0.025      0.975]\n",
      "--------------------------------------------------------------------------------\n",
      "const           -0.0467      0.001    -33.204      0.000      -0.049      -0.044\n",
      "nevents       1.538e-05   6.34e-07     24.283      0.000    1.41e-05    1.66e-05\n",
      "ndays_act        0.0047    7.6e-05     62.344      0.000       0.005       0.005\n",
      "nplay_video  -3.187e-05    2.6e-06    -12.261      0.000    -3.7e-05   -2.68e-05\n",
      "nchapters        0.0225      0.000    135.060      0.000       0.022       0.023\n",
      "nforum_posts    -0.0200      0.001    -13.390      0.000      -0.023      -0.017\n",
      "==============================================================================\n",
      "Omnibus:                     8290.937   Durbin-Watson:                   2.007\n",
      "Prob(Omnibus):                  0.000   Jarque-Bera (JB):            19441.776\n",
      "Skew:                           0.819   Prob(JB):                         0.00\n",
      "Kurtosis:                       5.281   Cond. No.                     6.31e+03\n",
      "==============================================================================\n",
      "\n",
      "Notes:\n",
      "[1] Standard Errors assume that the covariance matrix of the errors is correctly specified.\n",
      "[2] The condition number is large, 6.31e+03. This might indicate that there are\n",
      "strong multicollinearity or other numerical problems.\n"
     ]
    }
   ],
   "source": [
    "# Add constant for intercept\n",
    "X_train_sm = sm.add_constant(X_train)\n",
    "model = sm.OLS(y_train, X_train_sm).fit()\n",
    "print(model.summary())"
   ]
  },
  {
   "cell_type": "markdown",
   "metadata": {},
   "source": [
    "## Step 5: Perform Regression Using Scikit-learn"
   ]
  },
  {
   "cell_type": "code",
   "execution_count": 25,
   "metadata": {},
   "outputs": [
    {
     "name": "stdout",
     "output_type": "stream",
     "text": [
      "Mean Squared Error (MSE): 0.05\n",
      "R² Score: 0.59\n"
     ]
    }
   ],
   "source": [
    "# Train the regression model\n",
    "lr_model = LinearRegression()\n",
    "lr_model.fit(X_train, y_train)\n",
    "\n",
    "# Make predictions\n",
    "y_pred = lr_model.predict(X_test)\n",
    "\n",
    "# Evaluate the model\n",
    "mse = mean_squared_error(y_test, y_pred)\n",
    "r2 = r2_score(y_test, y_pred)\n",
    "\n",
    "print(f'Mean Squared Error (MSE): {mse:.2f}')\n",
    "print(f'R² Score: {r2:.2f}')"
   ]
  },
  {
   "cell_type": "markdown",
   "metadata": {},
   "source": [
    "## Step 6: Display Coefficients"
   ]
  },
  {
   "cell_type": "code",
   "execution_count": 26,
   "metadata": {},
   "outputs": [
    {
     "name": "stdout",
     "output_type": "stream",
     "text": [
      "        Feature  Coefficient\n",
      "0     Intercept    -0.046681\n",
      "1       nevents     0.000015\n",
      "2     ndays_act     0.004737\n",
      "3   nplay_video    -0.000032\n",
      "4     nchapters     0.022546\n",
      "5  nforum_posts    -0.019956\n"
     ]
    }
   ],
   "source": [
    "# Display coefficients\n",
    "coefficients = pd.DataFrame({\n",
    "    'Feature': predictors,\n",
    "    'Coefficient': lr_model.coef_\n",
    "})\n",
    "coefficients.loc[-1] = ['Intercept', lr_model.intercept_]  # Add intercept\n",
    "coefficients.index = coefficients.index + 1\n",
    "coefficients.sort_index(inplace=True)\n",
    "print(coefficients)"
   ]
  },
  {
   "cell_type": "code",
   "execution_count": null,
   "metadata": {},
   "outputs": [],
   "source": []
  }
 ],
 "metadata": {
  "kernelspec": {
   "display_name": "Python 3 (ipykernel)",
   "language": "python",
   "name": "python3"
  },
  "language_info": {
   "codemirror_mode": {
    "name": "ipython",
    "version": 3
   },
   "file_extension": ".py",
   "mimetype": "text/x-python",
   "name": "python",
   "nbconvert_exporter": "python",
   "pygments_lexer": "ipython3",
   "version": "3.11.0"
  }
 },
 "nbformat": 4,
 "nbformat_minor": 4
}

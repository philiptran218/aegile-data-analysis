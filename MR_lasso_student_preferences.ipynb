{
 "cells": [
  {
   "cell_type": "markdown",
   "metadata": {},
   "source": [
    "# Multiple Regression Analysis Notebook\n",
    "\n",
    "This notebook performs multiple regression analysis on fields in a dataset."
   ]
  },
  {
   "cell_type": "code",
   "execution_count": 1,
   "metadata": {},
   "outputs": [],
   "source": [
    "# Import necessary libraries\n",
    "import pandas as pd\n",
    "import numpy as np\n",
    "import matplotlib.pyplot as plt\n",
    "from sklearn.linear_model import LassoCV, Lasso\n",
    "from sklearn.model_selection import train_test_split\n",
    "from sklearn.preprocessing import StandardScaler\n",
    "from sklearn.metrics import mean_squared_error, r2_score"
   ]
  },
  {
   "cell_type": "markdown",
   "metadata": {},
   "source": [
    "## Step 1: Load the file and clean the data"
   ]
  },
  {
   "cell_type": "code",
   "execution_count": 3,
   "metadata": {},
   "outputs": [
    {
     "data": {
      "text/html": [
       "<div>\n",
       "<style scoped>\n",
       "    .dataframe tbody tr th:only-of-type {\n",
       "        vertical-align: middle;\n",
       "    }\n",
       "\n",
       "    .dataframe tbody tr th {\n",
       "        vertical-align: top;\n",
       "    }\n",
       "\n",
       "    .dataframe thead th {\n",
       "        text-align: right;\n",
       "    }\n",
       "</style>\n",
       "<table border=\"1\" class=\"dataframe\">\n",
       "  <thead>\n",
       "    <tr style=\"text-align: right;\">\n",
       "      <th></th>\n",
       "      <th>Age</th>\n",
       "      <th>Gender</th>\n",
       "      <th>Grade Level</th>\n",
       "      <th>Major</th>\n",
       "      <th>Socioeconomic Status</th>\n",
       "      <th>Language Proficiency</th>\n",
       "      <th>Learning Style</th>\n",
       "      <th>Course Format</th>\n",
       "      <th>Interaction Type</th>\n",
       "      <th>Engagement Level</th>\n",
       "      <th>...</th>\n",
       "      <th>Time Spent on Homework</th>\n",
       "      <th>Time Spent on Additional Learning</th>\n",
       "      <th>Study Environment</th>\n",
       "      <th>Technological Access</th>\n",
       "      <th>Grades</th>\n",
       "      <th>Test Scores</th>\n",
       "      <th>Course Completion Rates</th>\n",
       "      <th>Learning Style Preference</th>\n",
       "      <th>Course Format Preference</th>\n",
       "      <th>Preference Uncertainty</th>\n",
       "    </tr>\n",
       "  </thead>\n",
       "  <tbody>\n",
       "    <tr>\n",
       "      <th>0</th>\n",
       "      <td>24</td>\n",
       "      <td>Male</td>\n",
       "      <td>4</td>\n",
       "      <td>Computer Science</td>\n",
       "      <td>Low</td>\n",
       "      <td>Intermediate</td>\n",
       "      <td>Visual</td>\n",
       "      <td>In-person</td>\n",
       "      <td>Discussions</td>\n",
       "      <td>Low</td>\n",
       "      <td>...</td>\n",
       "      <td>3</td>\n",
       "      <td>7</td>\n",
       "      <td>Home</td>\n",
       "      <td>Good</td>\n",
       "      <td>76</td>\n",
       "      <td>88</td>\n",
       "      <td>87</td>\n",
       "      <td>Visual</td>\n",
       "      <td>In-person</td>\n",
       "      <td>Highly Certain</td>\n",
       "    </tr>\n",
       "    <tr>\n",
       "      <th>1</th>\n",
       "      <td>21</td>\n",
       "      <td>Male</td>\n",
       "      <td>2</td>\n",
       "      <td>Computer Science</td>\n",
       "      <td>Low</td>\n",
       "      <td>Basic</td>\n",
       "      <td>Visual</td>\n",
       "      <td>Online</td>\n",
       "      <td>Lectures</td>\n",
       "      <td>Moderate</td>\n",
       "      <td>...</td>\n",
       "      <td>6</td>\n",
       "      <td>3</td>\n",
       "      <td>Home</td>\n",
       "      <td>Good</td>\n",
       "      <td>99</td>\n",
       "      <td>76</td>\n",
       "      <td>67</td>\n",
       "      <td>Auditory</td>\n",
       "      <td>In-person</td>\n",
       "      <td>Highly Certain</td>\n",
       "    </tr>\n",
       "    <tr>\n",
       "      <th>2</th>\n",
       "      <td>22</td>\n",
       "      <td>Female</td>\n",
       "      <td>3</td>\n",
       "      <td>Computer Science</td>\n",
       "      <td>High</td>\n",
       "      <td>Intermediate</td>\n",
       "      <td>Kinesthetic</td>\n",
       "      <td>Online</td>\n",
       "      <td>Lectures</td>\n",
       "      <td>High</td>\n",
       "      <td>...</td>\n",
       "      <td>6</td>\n",
       "      <td>4</td>\n",
       "      <td>Home</td>\n",
       "      <td>Good</td>\n",
       "      <td>72</td>\n",
       "      <td>93</td>\n",
       "      <td>84</td>\n",
       "      <td>Auditory</td>\n",
       "      <td>In-person</td>\n",
       "      <td>Highly Certain</td>\n",
       "    </tr>\n",
       "    <tr>\n",
       "      <th>3</th>\n",
       "      <td>24</td>\n",
       "      <td>Male</td>\n",
       "      <td>4</td>\n",
       "      <td>Computer Science</td>\n",
       "      <td>High</td>\n",
       "      <td>Intermediate</td>\n",
       "      <td>Visual</td>\n",
       "      <td>In-person</td>\n",
       "      <td>Group Work</td>\n",
       "      <td>Moderate</td>\n",
       "      <td>...</td>\n",
       "      <td>8</td>\n",
       "      <td>6</td>\n",
       "      <td>Library</td>\n",
       "      <td>Average</td>\n",
       "      <td>73</td>\n",
       "      <td>98</td>\n",
       "      <td>69</td>\n",
       "      <td>Auditory</td>\n",
       "      <td>In-person</td>\n",
       "      <td>Moderately Certain</td>\n",
       "    </tr>\n",
       "    <tr>\n",
       "      <th>4</th>\n",
       "      <td>20</td>\n",
       "      <td>Female</td>\n",
       "      <td>2</td>\n",
       "      <td>Computer Science</td>\n",
       "      <td>Medium</td>\n",
       "      <td>Intermediate</td>\n",
       "      <td>Kinesthetic</td>\n",
       "      <td>Hybrid</td>\n",
       "      <td>Discussions</td>\n",
       "      <td>Moderate</td>\n",
       "      <td>...</td>\n",
       "      <td>8</td>\n",
       "      <td>6</td>\n",
       "      <td>Library</td>\n",
       "      <td>Good</td>\n",
       "      <td>50</td>\n",
       "      <td>63</td>\n",
       "      <td>73</td>\n",
       "      <td>Kinesthetic</td>\n",
       "      <td>Online</td>\n",
       "      <td>Highly Certain</td>\n",
       "    </tr>\n",
       "  </tbody>\n",
       "</table>\n",
       "<p>5 rows × 22 columns</p>\n",
       "</div>"
      ],
      "text/plain": [
       "   Age  Gender  Grade Level             Major Socioeconomic Status  \\\n",
       "0   24    Male            4  Computer Science                  Low   \n",
       "1   21    Male            2  Computer Science                  Low   \n",
       "2   22  Female            3  Computer Science                 High   \n",
       "3   24    Male            4  Computer Science                 High   \n",
       "4   20  Female            2  Computer Science               Medium   \n",
       "\n",
       "  Language Proficiency Learning Style Course Format Interaction Type  \\\n",
       "0         Intermediate         Visual     In-person      Discussions   \n",
       "1                Basic         Visual        Online         Lectures   \n",
       "2         Intermediate    Kinesthetic        Online         Lectures   \n",
       "3         Intermediate         Visual     In-person       Group Work   \n",
       "4         Intermediate    Kinesthetic        Hybrid      Discussions   \n",
       "\n",
       "  Engagement Level  ...  Time Spent on Homework  \\\n",
       "0              Low  ...                       3   \n",
       "1         Moderate  ...                       6   \n",
       "2             High  ...                       6   \n",
       "3         Moderate  ...                       8   \n",
       "4         Moderate  ...                       8   \n",
       "\n",
       "   Time Spent on Additional Learning  Study Environment  Technological Access  \\\n",
       "0                                  7               Home                  Good   \n",
       "1                                  3               Home                  Good   \n",
       "2                                  4               Home                  Good   \n",
       "3                                  6            Library               Average   \n",
       "4                                  6            Library                  Good   \n",
       "\n",
       "  Grades Test Scores  Course Completion Rates  Learning Style Preference  \\\n",
       "0     76          88                       87                     Visual   \n",
       "1     99          76                       67                   Auditory   \n",
       "2     72          93                       84                   Auditory   \n",
       "3     73          98                       69                   Auditory   \n",
       "4     50          63                       73                Kinesthetic   \n",
       "\n",
       "   Course Format Preference Preference Uncertainty  \n",
       "0                 In-person         Highly Certain  \n",
       "1                 In-person         Highly Certain  \n",
       "2                 In-person         Highly Certain  \n",
       "3                 In-person     Moderately Certain  \n",
       "4                    Online         Highly Certain  \n",
       "\n",
       "[5 rows x 22 columns]"
      ]
     },
     "execution_count": 3,
     "metadata": {},
     "output_type": "execute_result"
    }
   ],
   "source": [
    "# Replace 'your_dataset.csv' with the path to your dataset\n",
    "file_path = 'datasets/student_preferences_dataset.csv'\n",
    "data = pd.read_csv(file_path)\n",
    "data.head()"
   ]
  },
  {
   "cell_type": "markdown",
   "metadata": {},
   "source": [
    "## Step 2: Specify variables and perform Cross-Validation"
   ]
  },
  {
   "cell_type": "code",
   "execution_count": 31,
   "metadata": {},
   "outputs": [
    {
     "name": "stdout",
     "output_type": "stream",
     "text": [
      "Best alpha: 10.00000\n"
     ]
    }
   ],
   "source": [
    "# Select features and target (modify column names as needed)\n",
    "features = ['Previous Courses Taken', 'Satisfaction with Past Courses', 'Time Spent on Homework', 'Time Spent on Additional Learning', \n",
    "            'Test Scores', 'Course Completion Rates']  # Replace with actual feature column names\n",
    "target = 'Grades'  # Replace with the target variable name\n",
    "\n",
    "X = data[features]\n",
    "y = data[target]\n",
    "\n",
    "# Standardize the features\n",
    "scaler = StandardScaler()\n",
    "X_scaled = scaler.fit_transform(X)\n",
    "\n",
    "# Train-test split\n",
    "X_train, X_test, y_train, y_test = train_test_split(X_scaled, y, test_size=0.2, random_state=42)\n",
    "\n",
    "# Lasso with Cross-Validation to find the best alpha\n",
    "lasso_cv = LassoCV(alphas=np.logspace(-4, 1, 50), cv=10, random_state=42)\n",
    "lasso_cv.fit(X_train, y_train)\n",
    "\n",
    "# Best alpha\n",
    "best_alpha = lasso_cv.alpha_\n",
    "print(f\"Best alpha: {best_alpha:.5f}\")"
   ]
  },
  {
   "cell_type": "markdown",
   "metadata": {},
   "source": [
    "## Step 3: Run Lasso Regression"
   ]
  },
  {
   "cell_type": "code",
   "execution_count": 32,
   "metadata": {},
   "outputs": [
    {
     "name": "stdout",
     "output_type": "stream",
     "text": [
      "Mean Squared Error (MSE): 207.82427\n",
      "R-squared (R²): -0.00015\n",
      "\n",
      "Lasso Coefficients:\n",
      "                             Feature  Coefficient\n",
      "0                          Intercept     74.48836\n",
      "1             Previous Courses Taken      0.00000\n",
      "2     Satisfaction with Past Courses     -0.00000\n",
      "3             Time Spent on Homework     -0.00000\n",
      "4  Time Spent on Additional Learning      0.00000\n",
      "5                        Test Scores     -0.00000\n",
      "6            Course Completion Rates     -0.00000\n"
     ]
    }
   ],
   "source": [
    "# Train final Lasso model with best alpha\n",
    "lasso = Lasso(alpha=best_alpha)\n",
    "lasso.fit(X_train, y_train)\n",
    "\n",
    "# Predictions\n",
    "y_pred = lasso.predict(X_test)\n",
    "\n",
    "# Model evaluation\n",
    "mse = mean_squared_error(y_test, y_pred)\n",
    "r2 = r2_score(y_test, y_pred)\n",
    "\n",
    "print(f\"Mean Squared Error (MSE): {mse:.5f}\")\n",
    "print(f\"R-squared (R²): {r2:.5f}\")\n",
    "\n",
    "# Coefficients\n",
    "coef_df = pd.DataFrame({'Feature': ['Intercept'] + features, 'Coefficient': [lasso.intercept_] + list(lasso.coef_)})\n",
    "print(\"\\nLasso Coefficients:\")\n",
    "print(coef_df)"
   ]
  },
  {
   "cell_type": "markdown",
   "metadata": {},
   "source": [
    "## Step 4: Plot feature importance"
   ]
  },
  {
   "cell_type": "code",
   "execution_count": 33,
   "metadata": {},
   "outputs": [
    {
     "data": {
      "image/png": "[encoded data removed]",
      "text/plain": [
       "<Figure size 800x600 with 1 Axes>"
      ]
     },
     "metadata": {},
     "output_type": "display_data"
    }
   ],
   "source": [
    "# Plot feature importance\n",
    "plt.figure(figsize=(8, 6))\n",
    "plt.bar(coef_df['Feature'], coef_df['Coefficient'], color='blue')\n",
    "plt.xlabel(\"Features\")\n",
    "plt.ylabel(\"Coefficient Value\")\n",
    "plt.title(\"Lasso Regression Feature Importance\")\n",
    "plt.xticks(rotation=45)\n",
    "plt.show()"
   ]
  },
  {
   "cell_type": "code",
   "execution_count": null,
   "metadata": {},
   "outputs": [],
   "source": []
  },
  {
   "cell_type": "code",
   "execution_count": null,
   "metadata": {},
   "outputs": [],
   "source": []
  }
 ],
 "metadata": {
  "kernelspec": {
   "display_name": "Python 3 (ipykernel)",
   "language": "python",
   "name": "python3"
  },
  "language_info": {
   "codemirror_mode": {
    "name": "ipython",
    "version": 3
   },
   "file_extension": ".py",
   "mimetype": "text/x-python",
   "name": "python",
   "nbconvert_exporter": "python",
   "pygments_lexer": "ipython3",
   "version": "3.11.0"
  }
 },
 "nbformat": 4,
 "nbformat_minor": 4
}

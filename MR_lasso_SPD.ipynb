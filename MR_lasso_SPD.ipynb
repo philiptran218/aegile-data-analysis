{
 "cells": [
  {
   "cell_type": "markdown",
   "metadata": {},
   "source": [
    "# Multiple Regression Analysis Notebook\n",
    "\n",
    "This notebook performs multiple regression analysis on fields in a dataset."
   ]
  },
  {
   "cell_type": "code",
   "execution_count": 1,
   "metadata": {},
   "outputs": [],
   "source": [
    "# Import necessary libraries\n",
    "import pandas as pd\n",
    "import numpy as np\n",
    "import matplotlib.pyplot as plt\n",
    "from sklearn.linear_model import LassoCV, Lasso\n",
    "from sklearn.model_selection import train_test_split\n",
    "from sklearn.preprocessing import StandardScaler\n",
    "from sklearn.metrics import mean_squared_error, r2_score"
   ]
  },
  {
   "cell_type": "markdown",
   "metadata": {},
   "source": [
    "## Step 1: Load the file and clean the data"
   ]
  },
  {
   "cell_type": "code",
   "execution_count": 4,
   "metadata": {},
   "outputs": [
    {
     "data": {
      "text/html": [
       "<div>\n",
       "<style scoped>\n",
       "    .dataframe tbody tr th:only-of-type {\n",
       "        vertical-align: middle;\n",
       "    }\n",
       "\n",
       "    .dataframe tbody tr th {\n",
       "        vertical-align: top;\n",
       "    }\n",
       "\n",
       "    .dataframe thead th {\n",
       "        text-align: right;\n",
       "    }\n",
       "</style>\n",
       "<table border=\"1\" class=\"dataframe\">\n",
       "  <thead>\n",
       "    <tr style=\"text-align: right;\">\n",
       "      <th></th>\n",
       "      <th>Student ID</th>\n",
       "      <th>Gender</th>\n",
       "      <th>Age</th>\n",
       "      <th>Grade Level</th>\n",
       "      <th>Attendance Rate</th>\n",
       "      <th>Study Hours</th>\n",
       "      <th>Parental Education Level</th>\n",
       "      <th>Parental Involvement</th>\n",
       "      <th>Extracurricular Activities</th>\n",
       "      <th>Socioeconomic Status</th>\n",
       "      <th>...</th>\n",
       "      <th>Bullying Incidents</th>\n",
       "      <th>Special Education Services</th>\n",
       "      <th>Counseling Services</th>\n",
       "      <th>Learning Disabilities</th>\n",
       "      <th>Behavioral Issues</th>\n",
       "      <th>Attendance of Tutoring Sessions</th>\n",
       "      <th>School Climate</th>\n",
       "      <th>Parental Employment Status</th>\n",
       "      <th>Household Size</th>\n",
       "      <th>Performance Score</th>\n",
       "    </tr>\n",
       "  </thead>\n",
       "  <tbody>\n",
       "    <tr>\n",
       "      <th>0</th>\n",
       "      <td>1</td>\n",
       "      <td>Male</td>\n",
       "      <td>15</td>\n",
       "      <td>12</td>\n",
       "      <td>80.487800</td>\n",
       "      <td>2.764496</td>\n",
       "      <td>Bachelor's</td>\n",
       "      <td>High</td>\n",
       "      <td>Yes</td>\n",
       "      <td>High</td>\n",
       "      <td>...</td>\n",
       "      <td>1</td>\n",
       "      <td>No</td>\n",
       "      <td>Yes</td>\n",
       "      <td>Yes</td>\n",
       "      <td>Yes</td>\n",
       "      <td>No</td>\n",
       "      <td>Negative</td>\n",
       "      <td>Unemployed</td>\n",
       "      <td>3</td>\n",
       "      <td>Low</td>\n",
       "    </tr>\n",
       "    <tr>\n",
       "      <th>1</th>\n",
       "      <td>2</td>\n",
       "      <td>Female</td>\n",
       "      <td>17</td>\n",
       "      <td>12</td>\n",
       "      <td>96.242678</td>\n",
       "      <td>4.534785</td>\n",
       "      <td>Bachelor's</td>\n",
       "      <td>High</td>\n",
       "      <td>Yes</td>\n",
       "      <td>Low</td>\n",
       "      <td>...</td>\n",
       "      <td>3</td>\n",
       "      <td>Yes</td>\n",
       "      <td>Yes</td>\n",
       "      <td>No</td>\n",
       "      <td>Yes</td>\n",
       "      <td>No</td>\n",
       "      <td>Negative</td>\n",
       "      <td>Employed</td>\n",
       "      <td>3</td>\n",
       "      <td>Medium</td>\n",
       "    </tr>\n",
       "    <tr>\n",
       "      <th>2</th>\n",
       "      <td>3</td>\n",
       "      <td>Male</td>\n",
       "      <td>14</td>\n",
       "      <td>9</td>\n",
       "      <td>84.649681</td>\n",
       "      <td>2.008148</td>\n",
       "      <td>Bachelor's</td>\n",
       "      <td>Medium</td>\n",
       "      <td>Yes</td>\n",
       "      <td>Low</td>\n",
       "      <td>...</td>\n",
       "      <td>0</td>\n",
       "      <td>Yes</td>\n",
       "      <td>No</td>\n",
       "      <td>Yes</td>\n",
       "      <td>No</td>\n",
       "      <td>No</td>\n",
       "      <td>Neutral</td>\n",
       "      <td>Employed</td>\n",
       "      <td>3</td>\n",
       "      <td>High</td>\n",
       "    </tr>\n",
       "    <tr>\n",
       "      <th>3</th>\n",
       "      <td>4</td>\n",
       "      <td>Male</td>\n",
       "      <td>14</td>\n",
       "      <td>10</td>\n",
       "      <td>86.158599</td>\n",
       "      <td>3.698293</td>\n",
       "      <td>High School</td>\n",
       "      <td>High</td>\n",
       "      <td>No</td>\n",
       "      <td>Low</td>\n",
       "      <td>...</td>\n",
       "      <td>3</td>\n",
       "      <td>Yes</td>\n",
       "      <td>No</td>\n",
       "      <td>No</td>\n",
       "      <td>Yes</td>\n",
       "      <td>No</td>\n",
       "      <td>Positive</td>\n",
       "      <td>Employed</td>\n",
       "      <td>4</td>\n",
       "      <td>Medium</td>\n",
       "    </tr>\n",
       "    <tr>\n",
       "      <th>4</th>\n",
       "      <td>5</td>\n",
       "      <td>Male</td>\n",
       "      <td>15</td>\n",
       "      <td>10</td>\n",
       "      <td>88.487638</td>\n",
       "      <td>3.408604</td>\n",
       "      <td>Associate</td>\n",
       "      <td>Low</td>\n",
       "      <td>No</td>\n",
       "      <td>Middle</td>\n",
       "      <td>...</td>\n",
       "      <td>1</td>\n",
       "      <td>Yes</td>\n",
       "      <td>Yes</td>\n",
       "      <td>No</td>\n",
       "      <td>No</td>\n",
       "      <td>No</td>\n",
       "      <td>Positive</td>\n",
       "      <td>Employed</td>\n",
       "      <td>6</td>\n",
       "      <td>Low</td>\n",
       "    </tr>\n",
       "  </tbody>\n",
       "</table>\n",
       "<p>5 rows × 41 columns</p>\n",
       "</div>"
      ],
      "text/plain": [
       "   Student ID  Gender  Age  Grade Level  Attendance Rate  Study Hours  \\\n",
       "0           1    Male   15           12        80.487800     2.764496   \n",
       "1           2  Female   17           12        96.242678     4.534785   \n",
       "2           3    Male   14            9        84.649681     2.008148   \n",
       "3           4    Male   14           10        86.158599     3.698293   \n",
       "4           5    Male   15           10        88.487638     3.408604   \n",
       "\n",
       "  Parental Education Level Parental Involvement Extracurricular Activities  \\\n",
       "0               Bachelor's                 High                        Yes   \n",
       "1               Bachelor's                 High                        Yes   \n",
       "2               Bachelor's               Medium                        Yes   \n",
       "3              High School                 High                         No   \n",
       "4                Associate                  Low                         No   \n",
       "\n",
       "  Socioeconomic Status  ...  Bullying Incidents Special Education Services  \\\n",
       "0                 High  ...                   1                         No   \n",
       "1                  Low  ...                   3                        Yes   \n",
       "2                  Low  ...                   0                        Yes   \n",
       "3                  Low  ...                   3                        Yes   \n",
       "4               Middle  ...                   1                        Yes   \n",
       "\n",
       "  Counseling Services Learning Disabilities Behavioral Issues  \\\n",
       "0                 Yes                   Yes               Yes   \n",
       "1                 Yes                    No               Yes   \n",
       "2                  No                   Yes                No   \n",
       "3                  No                    No               Yes   \n",
       "4                 Yes                    No                No   \n",
       "\n",
       "  Attendance of Tutoring Sessions School Climate Parental Employment Status  \\\n",
       "0                              No       Negative                 Unemployed   \n",
       "1                              No       Negative                   Employed   \n",
       "2                              No        Neutral                   Employed   \n",
       "3                              No       Positive                   Employed   \n",
       "4                              No       Positive                   Employed   \n",
       "\n",
       "  Household Size  Performance Score  \n",
       "0              3                Low  \n",
       "1              3             Medium  \n",
       "2              3               High  \n",
       "3              4             Medium  \n",
       "4              6                Low  \n",
       "\n",
       "[5 rows x 41 columns]"
      ]
     },
     "execution_count": 4,
     "metadata": {},
     "output_type": "execute_result"
    }
   ],
   "source": [
    "# Replace 'your_dataset.csv' with the path to your dataset\n",
    "file_path = 'datasets/Student_Performance_Data(SPD24).xlsx'\n",
    "data = pd.read_excel(file_path)\n",
    "data.head()"
   ]
  },
  {
   "cell_type": "markdown",
   "metadata": {},
   "source": [
    "## Step 2: Specify variables and perform Cross-Validation"
   ]
  },
  {
   "cell_type": "code",
   "execution_count": 5,
   "metadata": {},
   "outputs": [
    {
     "name": "stdout",
     "output_type": "stream",
     "text": [
      "Best alpha: 10.00000\n"
     ]
    }
   ],
   "source": [
    "# Select features and target (modify column names as needed)\n",
    "features = ['Attendance Rate', 'Study Hours', 'Previous Academic Performance', 'Hours of Sleep', 'Homework Completion Rate']  # Replace with actual feature column names\n",
    "target = 'Reading Proficiency'  # Replace with the target variable name\n",
    "\n",
    "X = data[features]\n",
    "y = data[target]\n",
    "\n",
    "# Standardize the features\n",
    "scaler = StandardScaler()\n",
    "X_scaled = scaler.fit_transform(X)\n",
    "\n",
    "# Train-test split\n",
    "X_train, X_test, y_train, y_test = train_test_split(X_scaled, y, test_size=0.2, random_state=42)\n",
    "\n",
    "# Lasso with Cross-Validation to find the best alpha\n",
    "lasso_cv = LassoCV(alphas=np.logspace(-4, 1, 50), cv=10, random_state=42)\n",
    "lasso_cv.fit(X_train, y_train)\n",
    "\n",
    "# Best alpha\n",
    "best_alpha = lasso_cv.alpha_\n",
    "print(f\"Best alpha: {best_alpha:.5f}\")"
   ]
  },
  {
   "cell_type": "markdown",
   "metadata": {},
   "source": [
    "## Step 3: Run Lasso Regression"
   ]
  },
  {
   "cell_type": "code",
   "execution_count": 6,
   "metadata": {},
   "outputs": [
    {
     "name": "stdout",
     "output_type": "stream",
     "text": [
      "Mean Squared Error (MSE): 134.71646\n",
      "R-squared (R²): -0.00002\n",
      "\n",
      "Lasso Coefficients:\n",
      "                         Feature  Coefficient\n",
      "0                      Intercept    79.950515\n",
      "1                Attendance Rate     0.000000\n",
      "2                    Study Hours     0.000000\n",
      "3  Previous Academic Performance    -0.000000\n",
      "4                 Hours of Sleep    -0.000000\n",
      "5       Homework Completion Rate     0.000000\n"
     ]
    }
   ],
   "source": [
    "# Train final Lasso model with best alpha\n",
    "lasso = Lasso(alpha=best_alpha)\n",
    "lasso.fit(X_train, y_train)\n",
    "\n",
    "# Predictions\n",
    "y_pred = lasso.predict(X_test)\n",
    "\n",
    "# Model evaluation\n",
    "mse = mean_squared_error(y_test, y_pred)\n",
    "r2 = r2_score(y_test, y_pred)\n",
    "\n",
    "print(f\"Mean Squared Error (MSE): {mse:.5f}\")\n",
    "print(f\"R-squared (R²): {r2:.5f}\")\n",
    "\n",
    "# Coefficients\n",
    "coef_df = pd.DataFrame({'Feature': ['Intercept'] + features, 'Coefficient': [lasso.intercept_] + list(lasso.coef_)})\n",
    "print(\"\\nLasso Coefficients:\")\n",
    "print(coef_df)"
   ]
  },
  {
   "cell_type": "markdown",
   "metadata": {},
   "source": [
    "## Step 4: Plot feature importance"
   ]
  },
  {
   "cell_type": "code",
   "execution_count": 7,
   "metadata": {},
   "outputs": [
    {
     "data": {
      "image/png": "[encoded data removed]",
      "text/plain": [
       "<Figure size 800x600 with 1 Axes>"
      ]
     },
     "metadata": {},
     "output_type": "display_data"
    }
   ],
   "source": [
    "# Plot feature importance\n",
    "plt.figure(figsize=(8, 6))\n",
    "plt.bar(coef_df['Feature'], coef_df['Coefficient'], color='blue')\n",
    "plt.xlabel(\"Features\")\n",
    "plt.ylabel(\"Coefficient Value\")\n",
    "plt.title(\"Lasso Regression Feature Importance\")\n",
    "plt.xticks(rotation=45)\n",
    "plt.show()"
   ]
  },
  {
   "cell_type": "code",
   "execution_count": null,
   "metadata": {},
   "outputs": [],
   "source": []
  }
 ],
 "metadata": {
  "kernelspec": {
   "display_name": "Python 3 (ipykernel)",
   "language": "python",
   "name": "python3"
  },
  "language_info": {
   "codemirror_mode": {
    "name": "ipython",
    "version": 3
   },
   "file_extension": ".py",
   "mimetype": "text/x-python",
   "name": "python",
   "nbconvert_exporter": "python",
   "pygments_lexer": "ipython3",
   "version": "3.11.0"
  }
 },
 "nbformat": 4,
 "nbformat_minor": 4
}

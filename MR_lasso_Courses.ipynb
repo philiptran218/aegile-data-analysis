{
 "cells": [
  {
   "cell_type": "markdown",
   "metadata": {},
   "source": [
    "# Multiple Regression Analysis Notebook\n",
    "\n",
    "This notebook performs multiple regression analysis on fields in a dataset."
   ]
  },
  {
   "cell_type": "code",
   "execution_count": 17,
   "metadata": {},
   "outputs": [],
   "source": [
    "# Import necessary libraries\n",
    "import pandas as pd\n",
    "import numpy as np\n",
    "import matplotlib.pyplot as plt\n",
    "from sklearn.linear_model import LassoCV, Lasso\n",
    "from sklearn.model_selection import train_test_split\n",
    "from sklearn.preprocessing import StandardScaler\n",
    "from sklearn.metrics import mean_squared_error, r2_score"
   ]
  },
  {
   "cell_type": "markdown",
   "metadata": {},
   "source": [
    "## Step 1: Load the file and clean the data"
   ]
  },
  {
   "cell_type": "code",
   "execution_count": 18,
   "metadata": {},
   "outputs": [
    {
     "name": "stderr",
     "output_type": "stream",
     "text": [
      "C:\\Users\\phili\\AppData\\Local\\Temp\\ipykernel_9340\\2071882289.py:10: UserWarning: Boolean Series key will be reindexed to match DataFrame index.\n",
      "  ft_data = ft_data[selected_data['incomplete_flag'] != 1]\n"
     ]
    },
    {
     "data": {
      "text/html": [
       "<div>\n",
       "<style scoped>\n",
       "    .dataframe tbody tr th:only-of-type {\n",
       "        vertical-align: middle;\n",
       "    }\n",
       "\n",
       "    .dataframe tbody tr th {\n",
       "        vertical-align: top;\n",
       "    }\n",
       "\n",
       "    .dataframe thead th {\n",
       "        text-align: right;\n",
       "    }\n",
       "</style>\n",
       "<table border=\"1\" class=\"dataframe\">\n",
       "  <thead>\n",
       "    <tr style=\"text-align: right;\">\n",
       "      <th></th>\n",
       "      <th>grade</th>\n",
       "      <th>nevents</th>\n",
       "      <th>ndays_act</th>\n",
       "      <th>nplay_video</th>\n",
       "      <th>nchapters</th>\n",
       "      <th>nforum_posts</th>\n",
       "      <th>incomplete_flag</th>\n",
       "    </tr>\n",
       "  </thead>\n",
       "  <tbody>\n",
       "    <tr>\n",
       "      <th>12</th>\n",
       "      <td>0.07</td>\n",
       "      <td>175.0</td>\n",
       "      <td>9.0</td>\n",
       "      <td>0.0</td>\n",
       "      <td>7.0</td>\n",
       "      <td>0</td>\n",
       "      <td>0.0</td>\n",
       "    </tr>\n",
       "    <tr>\n",
       "      <th>29</th>\n",
       "      <td>0.05</td>\n",
       "      <td>285.0</td>\n",
       "      <td>8.0</td>\n",
       "      <td>0.0</td>\n",
       "      <td>4.0</td>\n",
       "      <td>0</td>\n",
       "      <td>0.0</td>\n",
       "    </tr>\n",
       "    <tr>\n",
       "      <th>90</th>\n",
       "      <td>0.13</td>\n",
       "      <td>2796.0</td>\n",
       "      <td>23.0</td>\n",
       "      <td>891.0</td>\n",
       "      <td>6.0</td>\n",
       "      <td>0</td>\n",
       "      <td>0.0</td>\n",
       "    </tr>\n",
       "    <tr>\n",
       "      <th>108</th>\n",
       "      <td>0.35</td>\n",
       "      <td>1068.0</td>\n",
       "      <td>14.0</td>\n",
       "      <td>103.0</td>\n",
       "      <td>3.0</td>\n",
       "      <td>0</td>\n",
       "      <td>0.0</td>\n",
       "    </tr>\n",
       "    <tr>\n",
       "      <th>118</th>\n",
       "      <td>1.00</td>\n",
       "      <td>439.0</td>\n",
       "      <td>47.0</td>\n",
       "      <td>0.0</td>\n",
       "      <td>11.0</td>\n",
       "      <td>0</td>\n",
       "      <td>0.0</td>\n",
       "    </tr>\n",
       "  </tbody>\n",
       "</table>\n",
       "</div>"
      ],
      "text/plain": [
       "     grade  nevents  ndays_act  nplay_video  nchapters  nforum_posts  \\\n",
       "12    0.07    175.0        9.0          0.0        7.0             0   \n",
       "29    0.05    285.0        8.0          0.0        4.0             0   \n",
       "90    0.13   2796.0       23.0        891.0        6.0             0   \n",
       "108   0.35   1068.0       14.0        103.0        3.0             0   \n",
       "118   1.00    439.0       47.0          0.0       11.0             0   \n",
       "\n",
       "     incomplete_flag  \n",
       "12               0.0  \n",
       "29               0.0  \n",
       "90               0.0  \n",
       "108              0.0  \n",
       "118              0.0  "
      ]
     },
     "execution_count": 18,
     "metadata": {},
     "output_type": "execute_result"
    }
   ],
   "source": [
    "# Replace 'your_dataset.csv' with the path to your dataset\n",
    "csv_file = 'datasets/Courses.csv'\n",
    "data = pd.read_csv(csv_file)\n",
    "\n",
    "selected_fields = ['grade', 'nevents', 'ndays_act', 'nplay_video', 'nchapters', 'nforum_posts', 'incomplete_flag']\n",
    "selected_data = data[selected_fields]\n",
    "ft_data = selected_data.fillna(0)\n",
    "ft_data = ft_data.apply(pd.to_numeric, errors='coerce')\n",
    "ft_data = ft_data[ft_data['grade'] > 0]\n",
    "ft_data = ft_data[selected_data['incomplete_flag'] != 1]\n",
    "ft_data.head()"
   ]
  },
  {
   "cell_type": "markdown",
   "metadata": {},
   "source": [
    "## Step 2: Specify variables and perform Cross-Validation"
   ]
  },
  {
   "cell_type": "code",
   "execution_count": 19,
   "metadata": {},
   "outputs": [
    {
     "name": "stdout",
     "output_type": "stream",
     "text": [
      "Best alpha: 0.00010\n"
     ]
    }
   ],
   "source": [
    "# Select features and target (modify column names as needed)\n",
    "features = ['nevents', 'ndays_act', 'nplay_video', 'nchapters', 'nforum_posts']  # Replace with actual feature column names\n",
    "target = 'grade'  # Replace with the target variable name\n",
    "\n",
    "X = ft_data[features]\n",
    "y = ft_data[target]\n",
    "\n",
    "# Standardize the features\n",
    "scaler = StandardScaler()\n",
    "X_scaled = scaler.fit_transform(X)\n",
    "\n",
    "# Train-test split\n",
    "X_train, X_test, y_train, y_test = train_test_split(X_scaled, y, test_size=0.2, random_state=42)\n",
    "\n",
    "# Lasso with Cross-Validation to find the best alpha\n",
    "lasso_cv = LassoCV(alphas=np.logspace(-4, 1, 50), cv=10, random_state=42)\n",
    "lasso_cv.fit(X_train, y_train)\n",
    "\n",
    "# Best alpha\n",
    "best_alpha = lasso_cv.alpha_\n",
    "print(f\"Best alpha: {best_alpha:.5f}\")"
   ]
  },
  {
   "cell_type": "markdown",
   "metadata": {},
   "source": [
    "## Step 3: Run Lasso Regression"
   ]
  },
  {
   "cell_type": "code",
   "execution_count": 20,
   "metadata": {},
   "outputs": [
    {
     "name": "stdout",
     "output_type": "stream",
     "text": [
      "Mean Squared Error (MSE): 0.04826\n",
      "R-squared (R²): 0.59313\n",
      "\n",
      "Lasso Coefficients:\n",
      "        Feature  Coefficient\n",
      "0     Intercept     0.267484\n",
      "1       nevents     0.046051\n",
      "2     ndays_act     0.106485\n",
      "3   nplay_video    -0.015826\n",
      "4     nchapters     0.158059\n",
      "5  nforum_posts    -0.011781\n"
     ]
    }
   ],
   "source": [
    "# Train final Lasso model with best alpha\n",
    "lasso = Lasso(alpha=best_alpha)\n",
    "lasso.fit(X_train, y_train)\n",
    "\n",
    "# Predictions\n",
    "y_pred = lasso.predict(X_test)\n",
    "\n",
    "# Model evaluation\n",
    "mse = mean_squared_error(y_test, y_pred)\n",
    "r2 = r2_score(y_test, y_pred)\n",
    "\n",
    "print(f\"Mean Squared Error (MSE): {mse:.5f}\")\n",
    "print(f\"R-squared (R²): {r2:.5f}\")\n",
    "\n",
    "# Coefficients\n",
    "coef_df = pd.DataFrame({'Feature': ['Intercept'] + features, 'Coefficient': [lasso.intercept_] + list(lasso.coef_)})\n",
    "print(\"\\nLasso Coefficients:\")\n",
    "print(coef_df)"
   ]
  },
  {
   "cell_type": "markdown",
   "metadata": {},
   "source": [
    "## Step 4: Plot feature importance"
   ]
  },
  {
   "cell_type": "code",
   "execution_count": 21,
   "metadata": {},
   "outputs": [
    {
     "data": {
      "image/png": "[encoded data removed]",
      "text/plain": [
       "<Figure size 800x600 with 1 Axes>"
      ]
     },
     "metadata": {},
     "output_type": "display_data"
    }
   ],
   "source": [
    "# Plot feature importance\n",
    "plt.figure(figsize=(8, 6))\n",
    "plt.bar(coef_df['Feature'], coef_df['Coefficient'], color='blue')\n",
    "plt.xlabel(\"Features\")\n",
    "plt.ylabel(\"Coefficient Value\")\n",
    "plt.title(\"Lasso Regression Feature Importance\")\n",
    "plt.xticks(rotation=45)\n",
    "plt.show()"
   ]
  },
  {
   "cell_type": "code",
   "execution_count": null,
   "metadata": {},
   "outputs": [],
   "source": []
  }
 ],
 "metadata": {
  "kernelspec": {
   "display_name": "Python 3 (ipykernel)",
   "language": "python",
   "name": "python3"
  },
  "language_info": {
   "codemirror_mode": {
    "name": "ipython",
    "version": 3
   },
   "file_extension": ".py",
   "mimetype": "text/x-python",
   "name": "python",
   "nbconvert_exporter": "python",
   "pygments_lexer": "ipython3",
   "version": "3.11.0"
  }
 },
 "nbformat": 4,
 "nbformat_minor": 4
}

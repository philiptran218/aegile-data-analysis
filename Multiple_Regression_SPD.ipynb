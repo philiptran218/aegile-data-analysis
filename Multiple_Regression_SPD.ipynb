{
 "cells": [
  {
   "cell_type": "markdown",
   "metadata": {},
   "source": [
    "# Multiple Regression Analysis Notebook\n",
    "\n",
    "This notebook performs multiple regression analysis on fields in a dataset."
   ]
  },
  {
   "cell_type": "code",
   "execution_count": 1,
   "metadata": {},
   "outputs": [],
   "source": [
    "# Import necessary libraries\n",
    "import pandas as pd\n",
    "import statsmodels.api as sm\n",
    "from sklearn.model_selection import train_test_split\n",
    "from sklearn.linear_model import LinearRegression\n",
    "from sklearn.metrics import mean_squared_error, r2_score"
   ]
  },
  {
   "cell_type": "markdown",
   "metadata": {},
   "source": [
    "## Step 1: Load the Dataset"
   ]
  },
  {
   "cell_type": "code",
   "execution_count": 2,
   "metadata": {},
   "outputs": [
    {
     "data": {
      "text/html": [
       "<div>\n",
       "<style scoped>\n",
       "    .dataframe tbody tr th:only-of-type {\n",
       "        vertical-align: middle;\n",
       "    }\n",
       "\n",
       "    .dataframe tbody tr th {\n",
       "        vertical-align: top;\n",
       "    }\n",
       "\n",
       "    .dataframe thead th {\n",
       "        text-align: right;\n",
       "    }\n",
       "</style>\n",
       "<table border=\"1\" class=\"dataframe\">\n",
       "  <thead>\n",
       "    <tr style=\"text-align: right;\">\n",
       "      <th></th>\n",
       "      <th>Student ID</th>\n",
       "      <th>Gender</th>\n",
       "      <th>Age</th>\n",
       "      <th>Grade Level</th>\n",
       "      <th>Attendance Rate</th>\n",
       "      <th>Study Hours</th>\n",
       "      <th>Parental Education Level</th>\n",
       "      <th>Parental Involvement</th>\n",
       "      <th>Extracurricular Activities</th>\n",
       "      <th>Socioeconomic Status</th>\n",
       "      <th>...</th>\n",
       "      <th>Bullying Incidents</th>\n",
       "      <th>Special Education Services</th>\n",
       "      <th>Counseling Services</th>\n",
       "      <th>Learning Disabilities</th>\n",
       "      <th>Behavioral Issues</th>\n",
       "      <th>Attendance of Tutoring Sessions</th>\n",
       "      <th>School Climate</th>\n",
       "      <th>Parental Employment Status</th>\n",
       "      <th>Household Size</th>\n",
       "      <th>Performance Score</th>\n",
       "    </tr>\n",
       "  </thead>\n",
       "  <tbody>\n",
       "    <tr>\n",
       "      <th>0</th>\n",
       "      <td>1</td>\n",
       "      <td>Male</td>\n",
       "      <td>15</td>\n",
       "      <td>12</td>\n",
       "      <td>80.487800</td>\n",
       "      <td>2.764496</td>\n",
       "      <td>Bachelor's</td>\n",
       "      <td>High</td>\n",
       "      <td>Yes</td>\n",
       "      <td>High</td>\n",
       "      <td>...</td>\n",
       "      <td>1</td>\n",
       "      <td>No</td>\n",
       "      <td>Yes</td>\n",
       "      <td>Yes</td>\n",
       "      <td>Yes</td>\n",
       "      <td>No</td>\n",
       "      <td>Negative</td>\n",
       "      <td>Unemployed</td>\n",
       "      <td>3</td>\n",
       "      <td>Low</td>\n",
       "    </tr>\n",
       "    <tr>\n",
       "      <th>1</th>\n",
       "      <td>2</td>\n",
       "      <td>Female</td>\n",
       "      <td>17</td>\n",
       "      <td>12</td>\n",
       "      <td>96.242678</td>\n",
       "      <td>4.534785</td>\n",
       "      <td>Bachelor's</td>\n",
       "      <td>High</td>\n",
       "      <td>Yes</td>\n",
       "      <td>Low</td>\n",
       "      <td>...</td>\n",
       "      <td>3</td>\n",
       "      <td>Yes</td>\n",
       "      <td>Yes</td>\n",
       "      <td>No</td>\n",
       "      <td>Yes</td>\n",
       "      <td>No</td>\n",
       "      <td>Negative</td>\n",
       "      <td>Employed</td>\n",
       "      <td>3</td>\n",
       "      <td>Medium</td>\n",
       "    </tr>\n",
       "    <tr>\n",
       "      <th>2</th>\n",
       "      <td>3</td>\n",
       "      <td>Male</td>\n",
       "      <td>14</td>\n",
       "      <td>9</td>\n",
       "      <td>84.649681</td>\n",
       "      <td>2.008148</td>\n",
       "      <td>Bachelor's</td>\n",
       "      <td>Medium</td>\n",
       "      <td>Yes</td>\n",
       "      <td>Low</td>\n",
       "      <td>...</td>\n",
       "      <td>0</td>\n",
       "      <td>Yes</td>\n",
       "      <td>No</td>\n",
       "      <td>Yes</td>\n",
       "      <td>No</td>\n",
       "      <td>No</td>\n",
       "      <td>Neutral</td>\n",
       "      <td>Employed</td>\n",
       "      <td>3</td>\n",
       "      <td>High</td>\n",
       "    </tr>\n",
       "    <tr>\n",
       "      <th>3</th>\n",
       "      <td>4</td>\n",
       "      <td>Male</td>\n",
       "      <td>14</td>\n",
       "      <td>10</td>\n",
       "      <td>86.158599</td>\n",
       "      <td>3.698293</td>\n",
       "      <td>High School</td>\n",
       "      <td>High</td>\n",
       "      <td>No</td>\n",
       "      <td>Low</td>\n",
       "      <td>...</td>\n",
       "      <td>3</td>\n",
       "      <td>Yes</td>\n",
       "      <td>No</td>\n",
       "      <td>No</td>\n",
       "      <td>Yes</td>\n",
       "      <td>No</td>\n",
       "      <td>Positive</td>\n",
       "      <td>Employed</td>\n",
       "      <td>4</td>\n",
       "      <td>Medium</td>\n",
       "    </tr>\n",
       "    <tr>\n",
       "      <th>4</th>\n",
       "      <td>5</td>\n",
       "      <td>Male</td>\n",
       "      <td>15</td>\n",
       "      <td>10</td>\n",
       "      <td>88.487638</td>\n",
       "      <td>3.408604</td>\n",
       "      <td>Associate</td>\n",
       "      <td>Low</td>\n",
       "      <td>No</td>\n",
       "      <td>Middle</td>\n",
       "      <td>...</td>\n",
       "      <td>1</td>\n",
       "      <td>Yes</td>\n",
       "      <td>Yes</td>\n",
       "      <td>No</td>\n",
       "      <td>No</td>\n",
       "      <td>No</td>\n",
       "      <td>Positive</td>\n",
       "      <td>Employed</td>\n",
       "      <td>6</td>\n",
       "      <td>Low</td>\n",
       "    </tr>\n",
       "  </tbody>\n",
       "</table>\n",
       "<p>5 rows × 41 columns</p>\n",
       "</div>"
      ],
      "text/plain": [
       "   Student ID  Gender  Age  Grade Level  Attendance Rate  Study Hours  \\\n",
       "0           1    Male   15           12        80.487800     2.764496   \n",
       "1           2  Female   17           12        96.242678     4.534785   \n",
       "2           3    Male   14            9        84.649681     2.008148   \n",
       "3           4    Male   14           10        86.158599     3.698293   \n",
       "4           5    Male   15           10        88.487638     3.408604   \n",
       "\n",
       "  Parental Education Level Parental Involvement Extracurricular Activities  \\\n",
       "0               Bachelor's                 High                        Yes   \n",
       "1               Bachelor's                 High                        Yes   \n",
       "2               Bachelor's               Medium                        Yes   \n",
       "3              High School                 High                         No   \n",
       "4                Associate                  Low                         No   \n",
       "\n",
       "  Socioeconomic Status  ...  Bullying Incidents Special Education Services  \\\n",
       "0                 High  ...                   1                         No   \n",
       "1                  Low  ...                   3                        Yes   \n",
       "2                  Low  ...                   0                        Yes   \n",
       "3                  Low  ...                   3                        Yes   \n",
       "4               Middle  ...                   1                        Yes   \n",
       "\n",
       "  Counseling Services Learning Disabilities Behavioral Issues  \\\n",
       "0                 Yes                   Yes               Yes   \n",
       "1                 Yes                    No               Yes   \n",
       "2                  No                   Yes                No   \n",
       "3                  No                    No               Yes   \n",
       "4                 Yes                    No                No   \n",
       "\n",
       "  Attendance of Tutoring Sessions School Climate Parental Employment Status  \\\n",
       "0                              No       Negative                 Unemployed   \n",
       "1                              No       Negative                   Employed   \n",
       "2                              No        Neutral                   Employed   \n",
       "3                              No       Positive                   Employed   \n",
       "4                              No       Positive                   Employed   \n",
       "\n",
       "  Household Size  Performance Score  \n",
       "0              3                Low  \n",
       "1              3             Medium  \n",
       "2              3               High  \n",
       "3              4             Medium  \n",
       "4              6                Low  \n",
       "\n",
       "[5 rows x 41 columns]"
      ]
     },
     "metadata": {},
     "output_type": "display_data"
    }
   ],
   "source": [
    "# Replace 'your_dataset.csv' with the path to your dataset\n",
    "file_path = 'datasets/Student_Performance_Data(SPD24).xlsx'\n",
    "data = pd.read_excel(file_path)\n",
    "\n",
    "# Display the first few rows of the dataset\n",
    "display(data.head())"
   ]
  },
  {
   "cell_type": "markdown",
   "metadata": {},
   "source": [
    "## Step 2: Specify Target and Predictor Variables"
   ]
  },
  {
   "cell_type": "code",
   "execution_count": 3,
   "metadata": {},
   "outputs": [],
   "source": [
    "# Define the target and predictors\n",
    "target = 'Reading Proficiency'  # Replace with your target column\n",
    "predictors = ['Attendance Rate', 'Study Hours', 'Previous Academic Performance', 'Hours of Sleep', 'Homework Completion Rate']  # Replace with your predictor columns\n",
    "\n",
    "# Ensure selected fields are in the dataset\n",
    "if target not in data.columns or not set(predictors).issubset(data.columns):\n",
    "    raise ValueError('Ensure the target and predictor fields are correctly specified and exist in the dataset.')\n",
    "\n",
    "# Prepare data\n",
    "X = data[predictors]\n",
    "y = data[target]"
   ]
  },
  {
   "cell_type": "markdown",
   "metadata": {},
   "source": [
    "## Step 3: Split the Data into Training and Testing Sets"
   ]
  },
  {
   "cell_type": "code",
   "execution_count": 4,
   "metadata": {},
   "outputs": [],
   "source": [
    "# Split the data\n",
    "X_train, X_test, y_train, y_test = train_test_split(X, y, test_size=0.2, random_state=42)"
   ]
  },
  {
   "cell_type": "markdown",
   "metadata": {},
   "source": [
    "## Step 4: Perform Multiple Regression Using Statsmodels"
   ]
  },
  {
   "cell_type": "code",
   "execution_count": 5,
   "metadata": {},
   "outputs": [
    {
     "name": "stdout",
     "output_type": "stream",
     "text": [
      "                             OLS Regression Results                            \n",
      "===============================================================================\n",
      "Dep. Variable:     Reading Proficiency   R-squared:                       0.000\n",
      "Model:                             OLS   Adj. R-squared:                 -0.000\n",
      "Method:                  Least Squares   F-statistic:                    0.9524\n",
      "Date:                 Sun, 19 Jan 2025   Prob (F-statistic):              0.446\n",
      "Time:                         23:51:05   Log-Likelihood:            -3.0288e+05\n",
      "No. Observations:                78400   AIC:                         6.058e+05\n",
      "Df Residuals:                    78394   BIC:                         6.058e+05\n",
      "Df Model:                            5                                         \n",
      "Covariance Type:             nonrobust                                         \n",
      "=================================================================================================\n",
      "                                    coef    std err          t      P>|t|      [0.025      0.975]\n",
      "-------------------------------------------------------------------------------------------------\n",
      "const                            79.4752      0.701    113.392      0.000      78.101      80.849\n",
      "Attendance Rate                   0.0082      0.006      1.443      0.149      -0.003       0.019\n",
      "Study Hours                       0.0419      0.036      1.176      0.239      -0.028       0.112\n",
      "Previous Academic Performance    -0.0031      0.004     -0.873      0.383      -0.010       0.004\n",
      "Hours of Sleep                   -0.0246      0.036     -0.693      0.489      -0.094       0.045\n",
      "Homework Completion Rate          0.0006      0.004      0.179      0.858      -0.006       0.008\n",
      "==============================================================================\n",
      "Omnibus:                    64800.989   Durbin-Watson:                   2.005\n",
      "Prob(Omnibus):                  0.000   Jarque-Bera (JB):             4644.885\n",
      "Skew:                           0.005   Prob(JB):                         0.00\n",
      "Kurtosis:                       1.808   Cond. No.                     2.45e+03\n",
      "==============================================================================\n",
      "\n",
      "Notes:\n",
      "[1] Standard Errors assume that the covariance matrix of the errors is correctly specified.\n",
      "[2] The condition number is large, 2.45e+03. This might indicate that there are\n",
      "strong multicollinearity or other numerical problems.\n"
     ]
    }
   ],
   "source": [
    "# Add constant for intercept\n",
    "X_train_sm = sm.add_constant(X_train)\n",
    "model = sm.OLS(y_train, X_train_sm).fit()\n",
    "print(model.summary())"
   ]
  },
  {
   "cell_type": "markdown",
   "metadata": {},
   "source": [
    "## Step 5: Perform Regression Using Scikit-learn"
   ]
  },
  {
   "cell_type": "code",
   "execution_count": 6,
   "metadata": {},
   "outputs": [
    {
     "name": "stdout",
     "output_type": "stream",
     "text": [
      "Mean Squared Error (MSE): 134.71\n",
      "R² Score: -0.00\n"
     ]
    }
   ],
   "source": [
    "# Train the regression model\n",
    "lr_model = LinearRegression()\n",
    "lr_model.fit(X_train, y_train)\n",
    "\n",
    "# Make predictions\n",
    "y_pred = lr_model.predict(X_test)\n",
    "\n",
    "# Evaluate the model\n",
    "mse = mean_squared_error(y_test, y_pred)\n",
    "r2 = r2_score(y_test, y_pred)\n",
    "\n",
    "print(f'Mean Squared Error (MSE): {mse:.2f}')\n",
    "print(f'R² Score: {r2:.2f}')"
   ]
  },
  {
   "cell_type": "markdown",
   "metadata": {},
   "source": [
    "## Step 6: Display Coefficients"
   ]
  },
  {
   "cell_type": "code",
   "execution_count": 7,
   "metadata": {},
   "outputs": [
    {
     "name": "stdout",
     "output_type": "stream",
     "text": [
      "                         Feature  Coefficient\n",
      "0                      Intercept    79.475150\n",
      "1                Attendance Rate     0.008235\n",
      "2                    Study Hours     0.041909\n",
      "3  Previous Academic Performance    -0.003118\n",
      "4                 Hours of Sleep    -0.024636\n",
      "5       Homework Completion Rate     0.000639\n"
     ]
    }
   ],
   "source": [
    "# Display coefficients\n",
    "coefficients = pd.DataFrame({\n",
    "    'Feature': predictors,\n",
    "    'Coefficient': lr_model.coef_\n",
    "})\n",
    "coefficients.loc[-1] = ['Intercept', lr_model.intercept_]  # Add intercept\n",
    "coefficients.index = coefficients.index + 1\n",
    "coefficients.sort_index(inplace=True)\n",
    "print(coefficients)"
   ]
  },
  {
   "cell_type": "code",
   "execution_count": null,
   "metadata": {},
   "outputs": [],
   "source": []
  }
 ],
 "metadata": {
  "kernelspec": {
   "display_name": "Python 3 (ipykernel)",
   "language": "python",
   "name": "python3"
  },
  "language_info": {
   "codemirror_mode": {
    "name": "ipython",
    "version": 3
   },
   "file_extension": ".py",
   "mimetype": "text/x-python",
   "name": "python",
   "nbconvert_exporter": "python",
   "pygments_lexer": "ipython3",
   "version": "3.11.0"
  }
 },
 "nbformat": 4,
 "nbformat_minor": 4
}
